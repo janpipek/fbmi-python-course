{
 "cells": [
  {
   "cell_type": "markdown",
   "metadata": {
    "cell_id": "00000-422f842f-7d30-4ed4-b407-118fbacec4b2",
    "deepnote_cell_type": "markdown",
    "output_cleared": false,
    "tags": []
   },
   "source": [
    "# Running Python\n",
    "\n",
    "Python is (essentially) an interpreted language and hence runs in an interpreter.\n",
    "You can start Python interpreter in command line (bash, cmd, ...) by running the `python` command:\n",
    "```\n",
    "$ python\n",
    "Python 3.10.8 (main, Nov  5 2022, 13:07:36) [GCC 11.3.0] on linux\n",
    "Type \"help\", \"copyright\", \"credits\" or \"license\" for more information.\n",
    ">>>\n",
    "```\n",
    "This brings you into an interactive Python session, where you can type and execute Python code.\n",
    "\n",
    "Note: We use the `$` character to denote shell commands (bash, cmd, ...).\n",
    "Python commands are often prefixed by `>>>`, as you can observe in the interactive interpreter."
   ]
  },
  {
   "cell_type": "markdown",
   "metadata": {
    "cell_id": "00001-36d85c86-dda6-468b-82c5-40c35c520648",
    "deepnote_cell_type": "markdown",
    "output_cleared": false,
    "tags": []
   },
   "source": [
    "## Hello ~~world~~ Python!\n",
    "\n",
    "We are ready for the Hello world exercise in Python! It is as simple as:\n",
    "\n",
    "```\n",
    ">>> print(\"Hello world!\")\n",
    "Hello world!\n",
    "```\n",
    "\n",
    "**Exercise:** Write and execute a Python code that will print \"Hello Python!\"."
   ]
  },
  {
   "cell_type": "markdown",
   "metadata": {
    "cell_id": "00002-9b976d96-16eb-4868-8300-9748e60a2b87",
    "deepnote_cell_type": "markdown",
    "output_cleared": false,
    "tags": []
   },
   "source": [
    "## Python programs in files\n",
    "\n",
    "Interactive session is of course not the only way to run Python. Source codes \n",
    "can be stored in `.py` files. Non-trivial libraries and projects are organized\n",
    "in directories.\n",
    "\n",
    "The hello Python program in a file would simple be:\n",
    "```\n",
    "print(\"Hello Python!)\n",
    "```\n",
    "\n",
    "To run a Python program saved in `FILENAME.py`, run in the command line\n",
    "```\n",
    "python FILENAME.py\n",
    "```\n",
    "\n",
    "Try it yourself!\n",
    "\n",
    "**Exercise:**  In an editor:\n",
    "\n",
    "1. create a new file,\n",
    "2. insert the source code for Hello Python,\n",
    "3. save the file as `hello_python.py`,\n",
    "4. run the program from the command line."
   ]
  },
  {
   "cell_type": "markdown",
   "metadata": {
    "cell_id": "00003-d690d03d-cf76-48bb-8213-0d0a62e24666",
    "deepnote_cell_type": "markdown",
    "output_cleared": false,
    "tags": []
   },
   "source": [
    "## ipython\n",
    "\n",
    "[`ipython`](https://ipython.org/) is a more powerful interactive shell. This is the recommended\n",
    "Python shell in a terminal as it offers a number of advantages\n",
    "(e.g. better history, syntax highlighting, code completion, ...) with respect to the\n",
    "standard interpreter. Try it out by running\n",
    "```\n",
    "ipython\n",
    "```\n",
    "You should get something very similar to\n",
    "```\n",
    "Python 3.10.8 (main, Nov  5 2022, 13:07:36) [GCC 11.3.0]\n",
    "Type 'copyright', 'credits' or 'license' for more information\n",
    "IPython 8.10.0 -- An enhanced Interactive Python. Type '?' for help.\n",
    "\n",
    "In [1]:\n",
    "```"
   ]
  },
  {
   "cell_type": "markdown",
   "metadata": {
    "cell_id": "00004-4e3e3898-b27f-4a8c-81a8-dcb045d779a3",
    "deepnote_cell_type": "markdown",
    "output_cleared": false,
    "tags": []
   },
   "source": [
    "## Jupyter notebooks\n",
    "\n",
    "The [Jupyter Notebook](https://jupyter.org/) is an open-source web application \n",
    "that allows you to create and share documents that contain \n",
    "live code, equations, visualizations and narrative text. \n",
    "\n",
    "Jupyter notebooks have become de facto standard for scientific data exploration.\n",
    "You can read about the success e.g. in the Nature article \n",
    "[Why Jupyter is data scientists’ computational notebook of choice](https://www.nature.com/articles/d41586-018-07196-1).\n",
    "As an example, LIGO published their gravitational wave detection data using Jupyter and Python.\n",
    "You can find many notebookes in their [collaboration tutorials](https://www.gw-openscience.org/tutorials/).\n",
    "\n",
    "And by the way, all these materials are written in Jupyter Notebooks :)\n",
    "\n",
    "### Local Jupyter \n",
    "\n",
    "A local Jupyter notebook server can be started from the command line by\n",
    "```\n",
    "jupyter notebook\n",
    "```\n",
    "Something like this should be printed in the terminal:\n",
    "```\n",
    "[W 23:22:43.015 NotebookApp] Loading JupyterLab as a classic notebook (v6) extension.\n",
    "[C 23:22:43.015 NotebookApp] You must use Jupyter Server v1 to load JupyterLab as notebook extension. You have v2.2.1 installed.\n",
    "    You can fix this by executing:\n",
    "        pip install -U \"jupyter-server<2.0.0\"\n",
    "[I 23:22:43.018 NotebookApp] Serving notebooks from local directory: /home/jan/code/collaboration/fbmi-python-course\n",
    "[I 23:22:43.018 NotebookApp] Jupyter Notebook 6.5.2 is running at:\n",
    "[I 23:22:43.018 NotebookApp] http://localhost:8888/?token=179b7b8e470584e25abde0b90604aed6a82325dfe0f5fd6a\n",
    "[I 23:22:43.018 NotebookApp]  or http://127.0.0.1:8888/?token=179b7b8e470584e25abde0b90604aed6a82325dfe0f5fd6a\n",
    "[I 23:22:43.018 NotebookApp] Use Control-C to stop this server and shut down all kernels (twice to skip confirmation).\n",
    "[C 23:22:43.046 NotebookApp] \n",
    "    \n",
    "    To access the notebook, open this file in a browser:\n",
    "        file:///home/jan/.local/share/jupyter/runtime/nbserver-12308-open.html\n",
    "    Or copy and paste one of these URLs:\n",
    "        http://localhost:8888/?token=179b7b8e470584e25abde0b90604aed6a82325dfe0f5fd6a\n",
    "     or http://127.0.0.1:8888/?token=179b7b8e470584e25abde0b90604aed6a82325dfe0f5fd6a\n",
    "```\n",
    "Maybe you have not noticed what happens in the terminal because the notebook web page\n",
    "has been opened automatically. It should look like this screenshot:\n",
    "\n",
    "TODO: Add screenshot\n",
    "![Jupyter screenshot](image-20201220-192454.png)\n",
    "\n",
    "### Using notebooks\n",
    "\n",
    "How to use notebooks is well described in the [documentation](https://jupyter-notebook.readthedocs.io/en/stable/)\n",
    "or in this [Real Python tutorial](https://realpython.com/jupyter-notebook-introduction/).\n",
    "\n",
    "Start by creating a new Python notebook. A new tab with `Untitled` notebook should appear.\n",
    "Try typing some Python code into the first cell and run in by pressing `shift + Enter`.\n",
    "\n",
    "TODO: Add screenshot\n",
    "![Untitled notebook](image-20201220-204914.png)\n",
    "\n",
    "\n",
    "### Remote Jupyter: Deepnote and others\n",
    "\n",
    "Thanks to the architecture of Jupyter based on a server and web clients, it is possible\n",
    "to have the server running remotely, e.g. in a cloud. Services like that are, for example,\n",
    "[Binder](https://mybinder.org/), [Google Colab](https://colab.research.google.com/) or \n",
    "[Azure Notebooks](https://notebooks.azure.com/).\n",
    "\n",
    "In this course, we will feature [Deepnote](https://deepnote.com/), a releatively new player\n",
    "with Czech origins. One of its core features is real-time collaboration: multiple people\n",
    "can edit the same notebook at the same time."
   ]
  },
  {
   "cell_type": "markdown",
   "metadata": {
    "cell_id": "00004-70927df9-e37d-4149-a191-cc8c51c428ea",
    "deepnote_cell_type": "markdown",
    "output_cleared": false,
    "tags": []
   },
   "source": [
    "## Virtual environments\n",
    "\n",
    "When working on a project, you typically install a lot of external libraries. This is fine and you may be lucky \n",
    "when installing them haphazardly over one and only installation of Python. However, sooner or later, you might\n",
    "encounter a conflict when a certain part or dependency of your project requires a \n",
    "different version of the same library than another project\n",
    "(or even a library that just does not work with the second project).\n",
    "\n",
    "It is therefore preferable to separate your \"working areas\" or, in the case of Python, **virtual environments**.\n",
    "These allow to keep the sets of libraries independent (and even allow for different versions of Python).\n",
    "Their creation and usage differs depending on how you installed Python. We already presented the idea in the installation\n",
    "instructions.\n"
   ]
  },
  {
   "cell_type": "markdown",
   "metadata": {
    "cell_id": "00006-cd10d563-2755-409f-991a-377ee9e3b36d",
    "deepnote_cell_type": "markdown",
    "tags": []
   },
   "source": [
    "\n",
    "### conda\n",
    "\n",
    "If you have a conda distribution of Python, it is very straightforward to create a new environment\n",
    "(specifying the version of Python): \n",
    "\n",
    "```\n",
    "conda create -n mynewenv python=3.10\n",
    "\n",
    "# or using a different channel (source of packages):\n",
    "\n",
    "conda create -n mynewenv python=3.10 -c conda-forge\n",
    "```\n",
    "\n",
    "This will create a new environment accessible by a name (it is stored inside the installation directory) and\n",
    "you can use it from anywhere in the directory tree:\n",
    "\n",
    "```\n",
    "conda activate mynewenv\n",
    "```\n",
    "\n",
    "You can install packages inside the active environment using the install command.\n",
    "\n",
    "```\n",
    "conda install nameofthepackage\n",
    "```\n",
    "\n",
    "More on that in [conda documentation](https://docs.conda.io/projects/conda/en/latest/user-guide/tasks/manage-environments.html)."
   ]
  },
  {
   "cell_type": "markdown",
   "metadata": {
    "cell_id": "00007-33d859e8-7d85-4af5-82b6-6e5bea4fd141",
    "deepnote_cell_type": "markdown",
    "tags": []
   },
   "source": [
    "### venv\n",
    "\n",
    "Virtual environments can be installed using the `venv` module which is usually part of the distribution (in Ubuntu, you may need to install `python3-venv` as well).\n",
    "\n",
    "```\n",
    "python3 -m venv mynewenv\n",
    "```\n",
    "\n",
    "This will create a new directory called `mynewenv` (or, in general, whatever path you specify) that contains a copy of the active\n",
    "Python installation with no additional packages. You can use it as \"tabula rasa\" - anything you install inside it, will never affect\n",
    "the system Python or other virtual environments. By simply deleting the created directory, you completely get rid of the environment.\n",
    "\n",
    "You enter the environment by running the script inside it:\n",
    "\n",
    "```\n",
    "source ./mynewenv/bin/activate     # Use the environment (every time)\n",
    "```\n",
    "\n",
    "To install a package, use the `pip` tool:\n",
    "\n",
    "\n",
    "```\n",
    "pip install nameofthepackage\n",
    "```\n",
    "\n",
    "When you want to exit the environment but keep the current terminal running, just run:\n",
    "\n",
    "```\n",
    "deactivate\n",
    "```\n",
    "\n",
    "*Note: It is possible to use `venv`with conda installation as well, although you are stripping it of one of its \n",
    "advantages - the management of packages with `conda`.*"
   ]
  },
  {
   "attachments": {},
   "cell_type": "markdown",
   "metadata": {
    "cell_id": "00004-25a7b36b-aab2-4c80-b07b-6e603a1f39a6",
    "deepnote_cell_type": "markdown",
    "output_cleared": false,
    "tags": []
   },
   "source": [
    "### poetry, ...\n",
    "\n",
    "\n",
    "There are many other tools for Python that manage packages, virtual environments and even Python versions for you. We will not cover them in this course, but you can look for e.g. [poetry](https://python-poetry.org/)."
   ]
  },
  {
   "cell_type": "code",
   "execution_count": null,
   "metadata": {
    "cell_id": "00009-6b05ae78-8c89-4c99-9b15-cccff2c1f5d4",
    "deepnote_cell_type": "code",
    "tags": []
   },
   "outputs": [],
   "source": []
  }
 ],
 "metadata": {
  "deepnote_execution_queue": [],
  "deepnote_notebook_id": "916a9cd2-574a-4c1e-86bc-2f49cd00c201",
  "kernelspec": {
   "display_name": "Python 3 (ipykernel)",
   "language": "python",
   "name": "python3"
  },
  "language_info": {
   "codemirror_mode": {
    "name": "ipython",
    "version": 3
   },
   "file_extension": ".py",
   "mimetype": "text/x-python",
   "name": "python",
   "nbconvert_exporter": "python",
   "pygments_lexer": "ipython3",
   "version": "3.10.8"
  },
  "vscode": {
   "interpreter": {
    "hash": "7324ee1e20694cfaa08448d21b18cfa8f7788a9ed9dde9da871a93276e5eac0c"
   }
  }
 },
 "nbformat": 4,
 "nbformat_minor": 2
}
