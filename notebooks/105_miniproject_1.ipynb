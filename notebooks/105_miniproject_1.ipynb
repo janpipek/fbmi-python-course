{
 "cells": [
  {
   "attachments": {},
   "cell_type": "markdown",
   "metadata": {},
   "source": [
    "# Miniproject 1: File reader\n",
    "\n",
    "The goal is to write a code (ideally a function) that reads a text file containing numbers and returns the arithmetic mean of the numbers in the file. The file is assumed to contain one number per line. The function should be able to handle both integers and floating point numbers.\n",
    "\n",
    "A. Expect that only numbers are in the file. E.g., the file looks like\n",
    "```\n",
    "1\n",
    "2.2\n",
    "-0.33\n",
    "```\n",
    "\n",
    "B. Expect that there are also comments in the file: Lines starting with `#` should be ignored. E.g., the file looks like\n",
    "```\n",
    "# This is a comment\n",
    "1\n",
    "2.2\n",
    "# -0.33\n",
    "```\n",
    "\n",
    "C. Extend the functionality to files with multiple columns. Calculate the mean of each column and return the means as a list of numbers. Do not assume that the number of columns is fixed. Each like can have a different number of columns. E.g., the file looks like\n",
    "```\n",
    "# This is a comment\n",
    "1 2.2 -0.33\n",
    "10 20.2\n",
    "-30 40 50 60\n",
    "```\n"
   ]
  },
  {
   "attachments": {},
   "cell_type": "markdown",
   "metadata": {},
   "source": [
    "There are example files prepared for you:\n",
    "```\n",
    "105_data_A.txt\n",
    "105_data_B.txt\n",
    "105_data_C.txt\n",
    "```\n",
    "\n",
    "The resulting mean for cases A and B is 20.31, the resulting means for case C are `[20.31, 17.0, -1.5]`."
   ]
  },
  {
   "cell_type": "markdown",
   "metadata": {},
   "source": []
  }
 ],
 "metadata": {
  "kernelspec": {
   "display_name": "data",
   "language": "python",
   "name": "python3"
  },
  "language_info": {
   "name": "python",
   "version": "3.9.15"
  },
  "orig_nbformat": 4,
  "vscode": {
   "interpreter": {
    "hash": "72160dfebc462fc90b093555bbb928aeea7de7923bddc35f4b44400e1d2267b1"
   }
  }
 },
 "nbformat": 4,
 "nbformat_minor": 2
}
