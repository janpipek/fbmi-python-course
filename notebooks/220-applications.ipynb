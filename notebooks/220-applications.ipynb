{
 "cells": [
  {
   "attachments": {},
   "cell_type": "markdown",
   "metadata": {},
   "source": [
    "# Command-line applications"
   ]
  },
  {
   "attachments": {},
   "cell_type": "markdown",
   "metadata": {},
   "source": [
    "## Approaches to using Python code\n",
    "\n",
    "### Interactive\n",
    "\n",
    "* Python console\n",
    "* Notebooks (Jupyter, in VS Code, cloud, ...)\n",
    "* TUI applications\n",
    "* Web applications (streamlit, proper web-servers)\n",
    "* (Native applications)\n",
    "\n",
    "### Non-interactive\n",
    "\n",
    "* Scripts (this notebook)"
   ]
  },
  {
   "attachments": {},
   "cell_type": "markdown",
   "metadata": {},
   "source": [
    "## How to write reusable scripts?\n",
    "\n",
    "Let's assume we want to write a script that computes the BMI of a person. We will write in multiple ways"
   ]
  },
  {
   "cell_type": "markdown",
   "metadata": {},
   "source": [
    "Bad option: ask user"
   ]
  },
  {
   "cell_type": "code",
   "execution_count": null,
   "metadata": {},
   "outputs": [],
   "source": [
    "# bmi-input.py\n",
    "\n",
    "def bmi(weight, height):\n",
    "    return weight / height ** 2\n",
    "\n",
    "if __name__ == \"__main__\":\n",
    "    weight = int(input(\"Weight:\"))\n",
    "    height = int(input(\"Height:\"))\n",
    "    print(bmi(weight, height))"
   ]
  },
  {
   "attachments": {},
   "cell_type": "markdown",
   "metadata": {},
   "source": [
    "Pure Python"
   ]
  },
  {
   "cell_type": "code",
   "execution_count": null,
   "metadata": {},
   "outputs": [],
   "source": [
    "# bmi-pure-unsafe.py\n",
    "import sys\n",
    "\n",
    "def bmi(weight, height):\n",
    "    return weight / height ** 2\n",
    "\n",
    "if __name__ == \"__main__\":\n",
    "    weight = int(sys.argv[1])\n",
    "    height = int(sys.argv[2])\n",
    "    print(bmi(weight, height))"
   ]
  },
  {
   "cell_type": "markdown",
   "metadata": {},
   "source": [
    "What if something is wrong?"
   ]
  },
  {
   "cell_type": "code",
   "execution_count": null,
   "metadata": {},
   "outputs": [],
   "source": [
    "# bmi-pure-safe.py\n",
    "\n",
    "import sys\n",
    "\n",
    "def bmi(weight, height):\n",
    "    return weight / height ** 2\n",
    "\n",
    "if __name__ == \"__main__\":\n",
    "    if len(sys.argv) < 3:\n",
    "        print(\"Usage: bmi-safe.py [WEIGHT] [HEIGHT]\")\n",
    "        sys.exit(-1)\n",
    "    try:\n",
    "        weight = int(sys.argv[1])\n",
    "    except ValueError:\n",
    "        print(f\"Weight must be an integer, not {sys.argv[1]}\")\n",
    "        sys.exit(-1)\n",
    "\n",
    "    try:\n",
    "        height = int(sys.argv[2])\n",
    "    except ValueError:\n",
    "        print(f\"Height must be an interger, not {sys.argv[2]}\")\n",
    "        sys.exit(-1)\n",
    "\n",
    "    print(bmi(weight, height))"
   ]
  },
  {
   "attachments": {},
   "cell_type": "markdown",
   "metadata": {},
   "source": [
    "Quite tiresome, lot of repeated code. Therefore, there are a few libraries that can help with that:"
   ]
  },
  {
   "attachments": {},
   "cell_type": "markdown",
   "metadata": {},
   "source": [
    "### Argparse (standard library)\n",
    "\n",
    "https://docs.python.org/3/library/argparse.html"
   ]
  },
  {
   "cell_type": "code",
   "execution_count": null,
   "metadata": {},
   "outputs": [],
   "source": [
    "# bmi-argparse\n",
    "# (thanks, ChatGPT!)\n",
    "import argparse\n",
    "\n",
    "def bmi(weight, height):\n",
    "    return weight / height ** 2\n",
    "\n",
    "if __name__ == \"__main__\":\n",
    "    # Create the parser\n",
    "    parser = argparse.ArgumentParser(description='Calculate BMI')\n",
    "\n",
    "    # Add arguments\n",
    "    parser.add_argument('weight', type=int, help='Weight in kilograms')\n",
    "    parser.add_argument('height', type=int, help='Height in centimeters')\n",
    "\n",
    "    # Parse the arguments\n",
    "    args = parser.parse_args()\n",
    "\n",
    "    # Access the parsed values\n",
    "    weight = args.weight\n",
    "    height = args.height / 100  # ChatGPT forget to divide\n",
    "\n",
    "    # Calculate BMI\n",
    "    print(bmi(weight, height))\n"
   ]
  },
  {
   "attachments": {},
   "cell_type": "markdown",
   "metadata": {},
   "source": [
    "### Click\n",
    "\n",
    "https://click.palletsprojects.com/en/8.1.x/\n",
    "\n",
    "Quite elegant and capable (my first choice usually). Built heavily on [decorators](https://docs.python.org/3/glossary.html#term-decorator)."
   ]
  },
  {
   "cell_type": "code",
   "execution_count": null,
   "metadata": {},
   "outputs": [],
   "source": [
    "# bmi-click.py\n",
    "\n",
    "import click\n",
    "\n",
    "def bmi(weight, height):\n",
    "    return weight / height ** 2\n",
    "\n",
    "@click.command\n",
    "@click.argument(\"weight\", type=int)\n",
    "@click.argument(\"height\", type=int)\n",
    "def run_bmi(weight, height):\n",
    "    \"\"\"Calculate BMI (Body Mass Index).\"\"\"\n",
    "    click.echo(bmi(weight, height / 100))\n",
    "\n",
    "if __name__ == \"__main__\":\n",
    "    run_bmi()"
   ]
  },
  {
   "attachments": {},
   "cell_type": "markdown",
   "metadata": {},
   "source": [
    "### Typer\n",
    "\n",
    "https://typer.tiangolo.com/\n",
    "\n",
    "Similar to click but different syntax. Built around type [annotations](https://mypy.readthedocs.io/en/stable/cheat_sheet_py3.html). Probably most natural way how to convert a function into a script."
   ]
  },
  {
   "cell_type": "code",
   "execution_count": null,
   "metadata": {},
   "outputs": [],
   "source": [
    "# bmi-typer.py\n",
    "import typer\n",
    "\n",
    "def bmi(weight: int, height: int):\n",
    "    \"\"\"Calculate BMI (Body Mass Index).\"\"\"\n",
    "    result = weight / (height / 100) ** 2\n",
    "    typer.echo(result)\n",
    "\n",
    "if __name__ == \"__main__\":\n",
    "    typer.run(bmi)"
   ]
  }
 ],
 "metadata": {
  "language_info": {
   "name": "python"
  },
  "orig_nbformat": 4
 },
 "nbformat": 4,
 "nbformat_minor": 2
}
