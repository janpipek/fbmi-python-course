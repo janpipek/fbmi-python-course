{
 "cells": [
  {
   "attachments": {},
   "cell_type": "markdown",
   "metadata": {},
   "source": [
    "# Miniproject 2: Exploratory data analysis of U.S. cities\n",
    "\n",
    "The goal is to explore different datasets, use them in combination and to create experiment with plotting."
   ]
  },
  {
   "attachments": {},
   "cell_type": "markdown",
   "metadata": {},
   "source": [
    "**Preparation**\n",
    "\n",
    "Using pandas, read the following two files:\n",
    "\n",
    "- data/us-cities-with-population.csv\n",
    "- data/us_state_population.csv\n",
    "\n",
    "Look at what they contain."
   ]
  },
  {
   "attachments": {},
   "cell_type": "markdown",
   "metadata": {},
   "source": [
    "**Task 1: Find which states are the most Urban (pun intended) and which are the most rural**\n",
    "\n",
    "We quantify the level of urbanisation as a fraction of people living in the cities (unfortunately, we approximate this as people living in **larger** cities).\n",
    "\n",
    "In the process, you may need to rename columns, join, group and aggregate data. You may also create plots to visualize this.\n",
    "\n",
    "Bonus questions:\n",
    "\n",
    "- Which territories are missing? Are there really no cities there?\n"
   ]
  },
  {
   "attachments": {},
   "cell_type": "markdown",
   "metadata": {},
   "source": [
    "**Task 2: Draw a visually pleasing \"map\" of U.S. cities.**\n",
    "\n",
    "You may use either pandas DataFrame methods, seaborn or plotly express. Don't worry if at the beginning you don't know which functions to call, what arguments to pass etc. Looking in the documentation is part of the process.\n",
    "\n",
    "Tips:\n",
    "- A scatter plot is probably your friend.\n",
    "- you may encode the state as color (works well with seaborn & plotly, not trivial with pandas)\n",
    "- you may use the population as size of the marker (note how tricky it is to get reasonable circle sizes in different libraries)\n",
    "\n",
    "Bonus tasks:\n",
    "\n",
    "- The file `data/us-cities.csv` contains many more cities, without population. You may add them as tiny dots.\n",
    "- Using https://plotly.com/python/choropleth-maps/ as inspiration (there is an example with U.S. states), you may show the states of the U.S. in a map, color-coded by their relative increase/decrease in population since 2010 (or by some other interesting quantity)"
   ]
  },
  {
   "attachments": {},
   "cell_type": "markdown",
   "metadata": {},
   "source": [
    "**Task X: Free visualisation**\n",
    "\n",
    "Choose one of the datasets we worked with today. Create one shiny, representative figure using whatever technology you prefer and present it at the end of the alloted time."
   ]
  },
  {
   "attachments": {},
   "cell_type": "markdown",
   "metadata": {},
   "source": [
    "## Documentation\n",
    "\n",
    "- https://pandas.pydata.org/docs/\n",
    "- https://matplotlib.org/stable/index.html\n",
    "- https://matplotlib.org/stable/gallery/index.html\n",
    "- https://seaborn.pydata.org/\n",
    "- https://seaborn.pydata.org/examples/index.html\n",
    "- https://plotly.com/python/\n"
   ]
  }
 ],
 "metadata": {
  "kernelspec": {
   "display_name": "python-course-2023",
   "language": "python",
   "name": "python3"
  },
  "language_info": {
   "name": "python",
   "version": "3.10.9"
  },
  "orig_nbformat": 4,
  "vscode": {
   "interpreter": {
    "hash": "11b62e27f0bdc93aa8ef666f0d0fce5f6f1147a16767b8591ab6102cbec3074e"
   }
  }
 },
 "nbformat": 4,
 "nbformat_minor": 2
}
