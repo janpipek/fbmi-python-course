{
 "cells": [
  {
   "attachments": {},
   "cell_type": "markdown",
   "metadata": {},
   "source": [
    "# Miniproject 2: Exploratory data analysis of U.S. cities\n",
    "\n",
    "The goal is to explore different datasets, use them in combination and to create experiment with plotting."
   ]
  },
  {
   "attachments": {},
   "cell_type": "markdown",
   "metadata": {},
   "source": [
    "**Preparation**\n",
    "\n",
    "Using pandas, read the following two files:\n",
    "\n",
    "- data/us-cities-with-population.csv\n",
    "- data/us_state_population.csv\n",
    "\n",
    "Look at what they contain."
   ]
  },
  {
   "attachments": {},
   "cell_type": "markdown",
   "metadata": {},
   "source": [
    "**Task 1: Find which states are the most rural and which are the most Urban (pun intended)**\n",
    "\n",
    "We define rurality as a fraction of people not living in the cities (admittedly over some lower boundary).\n",
    "\n",
    "In the process, you may need to rename columns, join, group and aggregate data. You may also create plots to visualize this.\n",
    "\n",
    "Bonus questions:\n",
    "\n",
    "- Which territories are missing? Are there really no cities there?\n"
   ]
  },
  {
   "attachments": {},
   "cell_type": "markdown",
   "metadata": {},
   "source": [
    "**Task 2: Draw a visually pleasing \"map\" of U.S. cities.**\n",
    "\n",
    "You may use either pandas DataFrame methods, seaborn or plotly express. Don't worry if at the beginning you don't know which functions to call, what arguments to pass etc. Looking in the documentation is part of the process.\n",
    "\n",
    "Tips:\n",
    "- A scatter plot is probably your friend.\n",
    "- you may encode the state as color (works well with seaborn & plotly, not trivial with pandas)\n",
    "- you may use the population as size of the marker (note how tricky it is to get reasonable circle sizes in different libraries)\n",
    "\n",
    "Bonus:\n",
    "\n",
    "- The file `data/us-cities.csv` contains many more cities, without population. You may add them as tiny dots."
   ]
  },
  {
   "attachments": {},
   "cell_type": "markdown",
   "metadata": {},
   "source": [
    "## Documentation\n",
    "\n",
    "- https://pandas.pydata.org/docs/\n",
    "- https://matplotlib.org/stable/index.html\n",
    "- https://matplotlib.org/stable/gallery/index.html\n",
    "- https://seaborn.pydata.org/\n",
    "- https://seaborn.pydata.org/examples/index.html\n",
    "- https://plotly.com/python/\n"
   ]
  }
 ],
 "metadata": {
  "kernelspec": {
   "display_name": "fbmi",
   "language": "python",
   "name": "python3"
  },
  "language_info": {
   "name": "python",
   "version": "3.10.8"
  },
  "orig_nbformat": 4,
  "vscode": {
   "interpreter": {
    "hash": "6fb8e32c9f7af95aa83e88b07682bfae7117736abd18620c659da3d11ded469c"
   }
  }
 },
 "nbformat": 4,
 "nbformat_minor": 2
}
